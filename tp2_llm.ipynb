{
 "cells": [
  {
   "cell_type": "markdown",
   "metadata": {},
   "source": [
    "## Exercício 7"
   ]
  },
  {
   "cell_type": "code",
   "execution_count": 14,
   "metadata": {},
   "outputs": [
    {
     "name": "stdout",
     "output_type": "stream",
     "text": [
      "## RESUMO:\n",
      "\n",
      "O Brasil caiu 21 posições no ranking de segurança para viajantes em 2025, ocupando o 36º lugar, de acordo com pesquisa da BHTP. A queda se deve a fatores como eventos climáticos extremos, índices de violência urbana e a presença de conflitos. \n",
      "\n"
     ]
    }
   ],
   "source": [
    "from dotenv import load_dotenv\n",
    "import os\n",
    "import google.generativeai as genai\n",
    "load_dotenv('./env')\n",
    "\n",
    "noticia = \"\"\"\n",
    "Brasil cai para 36º lugar no ranking de segurança para viajantes em 2025\n",
    "A pesquisa realizada pela Berkshire Hathaway Travel Protection (BHTP) aponta que, em 2025, os destinos mais seguros para os viajantes serão Islândia, Austrália e Canadá. O Brasil, que ocupava a 15ª posição, sofreu uma queda significativa, agora figurando em 36º lugar no ranking de segurança. Irlanda, Suíça, Nova Zelândia, Alemanha, Noruega, Japão, Dinamarca, Portugal, Espanha, Reino Unido, Holanda e Suécia, completam a lista dos 15 destinos mais seguros. Os critérios utilizados na pesquisa incluem a análise de eventos climáticos extremos, índices de violência urbana e a presença de conflitos.\n",
    "As informações foram coletadas a partir das experiências de viajantes e de fontes confiáveis, como o Índice Global da Paz e a plataforma Numbeo. A Islândia se destacou como o destino mais seguro, principalmente devido à sua baixa taxa de acidentes de trânsito. Além disso, o ranking também avalia a segurança em relação a crimes violentos e terrorismo, com a Noruega e os Emirados Árabes Unidos se destacando nas primeiras posições dessas categorias. O Brasil, no entanto, não aparece nessas listas específicas de segurança.\n",
    "\"\"\"\n",
    "\n",
    "prompt = f\"\"\"\n",
    "Resuma a <NOTICIA> em até 2 sentenças com os principais pontos da noticia.\n",
    "Aqui está um exemplo de resumo:\n",
    "\n",
    "<NOTICIA>\n",
    "\"A empresa X lançou um novo smartphone no mercado.\"\n",
    "###\n",
    "<RESUMO>\n",
    "\"A empresa X anunciou o lançamento de um novo smartphone, trazendo inovações tecnológicas e maior duração de bateria.\"\n",
    "\n",
    "Agora, faça o resumo da noticia abaixo:\n",
    "<NOTICIA>\n",
    "\"{noticia}\"\n",
    "###\n",
    "<RESUMO>\n",
    "\"\"\"\n",
    "\n",
    "genai.configure(api_key=os.environ[\"GEMINI_KEY\"])\n",
    "model = genai.GenerativeModel(\"gemini-1.5-flash\")\n",
    "response = model.generate_content(prompt)\n",
    "print(response.text)"
   ]
  },
  {
   "cell_type": "markdown",
   "metadata": {},
   "source": [
    "## Exercício 8"
   ]
  },
  {
   "cell_type": "code",
   "execution_count": 15,
   "metadata": {},
   "outputs": [
    {
     "name": "stdout",
     "output_type": "stream",
     "text": [
      "Camilo Santana, Inep, Enem\n",
      "###\n",
      "Donald Trump, Vladimir Putin, Estados Unidos, Rússia, Ucrânia\n",
      "###\n",
      "Barcelona, Real Sociedad, Lamine Yamal, Raphinha, Lewandowski, Real Madrid, VAR, Becker \n",
      "\n"
     ]
    }
   ],
   "source": [
    "not_1 = \"\"\"\n",
    "Ministro da Educação anuncia que divulgação do gabarito do Enem será antecipada\n",
    "Inep definirá e anunciará a nova data nesta semana; prova para estudantes do Ensino Médio chegou ao fim neste domingo com a aplicação das provas de ciências da natureza e matemática\n",
    "O gabarito oficial do Enem (Exame Nacional do Ensino Médio) 2024, inicialmente previsto para ser divulgado em 20 de novembro, será antecipado. O anúncio foi feito pelo ministro da Educação, Camilo Santana, neste domingo (10). De acordo com o ministro, o Instituto Nacional de Estudos e Pesquisas Educacionais Anísio Teixeira (Inep) definirá e divulgará a nova data para a publicação dos gabaritos nesta semana. Neste domingo (10), o Enem chegou ao fim com a aplicação das provas de ciências da natureza (física, química e biologia) e matemática, completando a segunda etapa do exame.\n",
    "\"\"\"\n",
    "\n",
    "not_2 = \"\"\"\n",
    "Trump conversa com Putin e pede que líder russo evite escalada da guerra na Ucrânia\n",
    "Presidente eleito dos Estados Unidos declarou que poderia acabar com o conflito em 24 horas; Kremlin demonstrou abertura para dialogar\n",
    "O presidente eleito dos Estados Unidos, Donald Trump, teve uma conversa com o líder russo Vladimir Putin a respeito do conflito na Ucrânia. Durante a discussão, Trump aconselhou Putin a evitar uma escalada da guerra e mencionou a presença militar americana na Europa. Ele também fez uma afirmação impactante, dizendo que poderia resolver o conflito em apenas 24 horas. A declaração, no entanto, pode ser uma estratégia de Trump para pressionar a Ucrânia a aceitar concessões territoriais em favor da Rússia.\n",
    "\"\"\"\n",
    "\n",
    "not_3 = \"\"\"\n",
    "Barcelona é derrotado pela Real Sociedad, mas mantém a liderança no Campeonato Espanhol\n",
    "Equipe catalã não contou com Lamine Yamal e teve Raphinha em uma atuação discreta; Barça teve um gol de Lewandowski anulado após revisão do VAR\n",
    "O Barcelona enfrentou a Real Sociedad em San Sebastián e saiu derrotado por 1 a 0, na 13ª rodada do Campeonato Espanhol. A equipe catalã, que não contou com Lamine Yamal e teve Raphinha em uma atuação discreta, ainda assim se mantém na liderança da competição, acumulando 33 pontos, seis a mais que o Real Madrid. A Real Sociedad, jogando em casa, demonstrou um sólido desempenho defensivo e aproveitou bem os contra-ataques. Durante o primeiro tempo, o Barça teve um gol de Lewandowski anulado após revisão do VAR. A equipe da casa, por sua vez, conseguiu criar boas oportunidades, culminando com o gol de Becker aos 32 minutos.\n",
    "\"\"\"\n",
    "\n",
    "prompt = f\"\"\"\n",
    "Você receberá 3 notícias diferentes. Para cada notícia, identifique e responda apenas com os nomes, de pessoas, órgãos públicos, empresas, etc. que são mencionados na notícia. Cite cada nome apenas uma vez e separe cada notícia com '###'. Caso não sejam citados nenhuma entidade, escreva 'Sem entidades'. Aqui está um exemplo de resposta:\n",
    "Jorge, Maria, USP\n",
    "###\n",
    "Sem entidades\n",
    "###\n",
    "Bruno\n",
    "\n",
    "Aqui estão as notícias:\n",
    "{not_1}\n",
    "###\n",
    "{not_2}\n",
    "###\n",
    "{not_3}\n",
    "\"\"\"\n",
    "\n",
    "genai.configure(api_key=os.environ[\"GEMINI_KEY\"])\n",
    "model = genai.GenerativeModel(\"gemini-1.5-flash\")\n",
    "response = model.generate_content(prompt)\n",
    "print(response.text)"
   ]
  },
  {
   "cell_type": "markdown",
   "metadata": {},
   "source": [
    "## Exercício 9"
   ]
  },
  {
   "cell_type": "code",
   "execution_count": 16,
   "metadata": {},
   "outputs": [
    {
     "name": "stdout",
     "output_type": "stream",
     "text": [
      "Número de tokens: 5001\n"
     ]
    }
   ],
   "source": [
    "import tiktoken\n",
    "\n",
    "def estimar_tokens(texto):\n",
    "    encoder = tiktoken.get_encoding(\"o200k_base\")\n",
    "    tokens = encoder.encode(texto)\n",
    "    return tokens\n",
    "\n",
    "texto = \" \".join([\"palavra\" for _ in range(5000)])\n",
    "tokens = estimar_tokens(texto)\n",
    "print(\"Número de tokens:\", len(tokens))"
   ]
  },
  {
   "cell_type": "markdown",
   "metadata": {},
   "source": [
    "## Exercício 11"
   ]
  },
  {
   "cell_type": "code",
   "execution_count": 17,
   "metadata": {},
   "outputs": [
    {
     "data": {
      "text/plain": [
       "{'roteiro': {'atenas': 'liste 3 pontos turÃ\\xadsticos de Atenas, o nÃºmero anual de visitantes dos pontos e uma breve descriÃ§Ã£o de cada um',\n",
       "  'roma': 'liste 3 pontos turÃ\\xadsticos de Roma, o nÃºmero anual de visitantes dos pontos e uma breve descriÃ§Ã£o de cada um'}}"
      ]
     },
     "execution_count": 17,
     "metadata": {},
     "output_type": "execute_result"
    }
   ],
   "source": [
    "import yaml\n",
    "\n",
    "with open(\"./turismo.yaml\") as file:\n",
    "    try:\n",
    "        config = yaml.safe_load(file)\n",
    "    except yaml.YAMLError as exc:\n",
    "        print(exc)\n",
    "config"
   ]
  },
  {
   "cell_type": "code",
   "execution_count": 18,
   "metadata": {},
   "outputs": [
    {
     "name": "stdout",
     "output_type": "stream",
     "text": [
      "## 3 Pontos Turísticos de Atenas:\n",
      "\n",
      "**1. Acrópole de Atenas:**\n",
      "\n",
      "* **Número anual de visitantes:**  Aproximadamente 3 milhões. \n",
      "* **Descrição:** Localizado no topo de uma colina rochosa, a Acrópole de Atenas é um complexo de monumentos antigos, incluindo o Parthenon, o Erechtheion e os Propileus. A Acrópole é um dos marcos mais icônicos da Grécia e oferece vistas panorâmicas da cidade.\n",
      "\n",
      "**2. Fórum Romano de Atenas:**\n",
      "\n",
      "* **Número anual de visitantes:**  Aproximadamente 1 milhão. \n",
      "* **Descrição:**  O Fórum Romano de Atenas foi construído pelos romanos no século II d.C., sobre os restos de um antigo mercado grego. O Fórum abriga ruínas impressionantes de templos, bibliotecas e outras estruturas, além de um relógio de sol antigo.\n",
      "\n",
      "**3. Museu Nacional de Atenas:**\n",
      "\n",
      "* **Número anual de visitantes:** Aproximadamente 1 milhão.\n",
      "* **Descrição:**  O Museu Nacional de Atenas abriga uma coleção extensa de artefatos da Grécia Antiga, incluindo esculturas, cerâmica, joias e moedas. O museu é um tesouro para qualquer pessoa interessada na história e cultura da Grécia.\n",
      "\n"
     ]
    }
   ],
   "source": [
    "genai.configure(api_key=os.environ[\"GEMINI_KEY\"])\n",
    "model = genai.GenerativeModel(\"gemini-1.5-flash\")\n",
    "\n",
    "resp_atenas = model.generate_content(config[\"roteiro\"][\"atenas\"])\n",
    "resp_roma = model.generate_content(config[\"roteiro\"][\"roma\"])\n",
    "\n",
    "print(resp_atenas.text)"
   ]
  },
  {
   "cell_type": "code",
   "execution_count": 19,
   "metadata": {},
   "outputs": [
    {
     "name": "stdout",
     "output_type": "stream",
     "text": [
      "## Pontos Turísticos de Roma:\n",
      "\n",
      "**1. Coliseu:**\n",
      "\n",
      "* **Número Anual de Visitantes:** Aproximadamente 7.5 milhões de visitantes por ano.\n",
      "* **Descrição:** O Coliseu, também conhecido como Anfiteatro Flavio, é um anfiteatro oval construído no século I d.C. durante o Império Romano. Era utilizado para combates de gladiadores, caça de animais e outros espetáculos. É um dos monumentos mais icônicos de Roma e um dos pontos turísticos mais visitados do mundo.\n",
      "\n",
      "**2. Fórum Romano:**\n",
      "\n",
      "* **Número Anual de Visitantes:** Aproximadamente 4.5 milhões de visitantes por ano.\n",
      "* **Descrição:** O Fórum Romano era o coração do Império Romano, um centro político, social e religioso. Nele estão localizados diversos edifícios históricos, como o Templo de Saturno, o Templo de Vesta e a Basílica Julia. É um sítio arqueológico fascinante que oferece uma viagem no tempo para a Roma antiga.\n",
      "\n",
      "**3. Cidade do Vaticano:**\n",
      "\n",
      "* **Número Anual de Visitantes:** Aproximadamente 6 milhões de visitantes por ano.\n",
      "* **Descrição:** A Cidade do Vaticano é um estado independente dentro de Roma, lar da Igreja Católica Romana. É um local sagrado com importantes monumentos como a Basílica de São Pedro, a Capela Sistina e os Museus Vaticanos. A Cidade do Vaticano é um centro religioso e cultural, atraindo milhões de peregrinos e turistas de todo o mundo. \n",
      "\n"
     ]
    }
   ],
   "source": [
    "print(resp_roma.text)"
   ]
  },
  {
   "cell_type": "markdown",
   "metadata": {},
   "source": [
    "## Exercício 12"
   ]
  },
  {
   "cell_type": "code",
   "execution_count": 20,
   "metadata": {},
   "outputs": [
    {
     "data": {
      "text/plain": [
       "{'roteiro': {'atenas': \"liste 3 pontos turÃ\\xadsticos de Atenas, o nÃºmero anual de visitantes dos pontos e uma breve descriÃ§Ã£o de cada um e estruture a resposta em um JSON preparado para trabalhar em pandas, com os dados diretamente no arquivo sem uma chave superior. As chaves devem se chamar: 'ponto_turistico' (o valor deve ser conter 'Atenas_' no comeÃ§o do nome do ponto), 'visitantes_anuais' (em inteiros) e 'descricao'.\",\n",
       "  'roma': \"liste 3 pontos turÃ\\xadsticos de Roma, o nÃºmero anual de visitantes dos pontos e uma breve descriÃ§Ã£o de cada um e estruture a resposta em JSON preparado para trabalhar em pandas, com os dados diretamente no arquivo sem uma chave superior. As chaves devem se chamar: 'ponto_turistico' (o valor deve ser conter 'Roma_' no comeÃ§o do nome do ponto), 'visitantes_anuais' (em inteiros) e 'descricao'.\"}}"
      ]
     },
     "execution_count": 20,
     "metadata": {},
     "output_type": "execute_result"
    }
   ],
   "source": [
    "with open(\"./turismo2.yaml\") as file:\n",
    "    try:\n",
    "        config2 = yaml.safe_load(file)\n",
    "    except yaml.YAMLError as exc:\n",
    "        print(exc)\n",
    "config2"
   ]
  },
  {
   "cell_type": "code",
   "execution_count": 21,
   "metadata": {},
   "outputs": [],
   "source": [
    "genai.configure(api_key=os.environ[\"GEMINI_KEY\"])\n",
    "model = genai.GenerativeModel(\"gemini-1.5-flash\")\n",
    "\n",
    "resp_atenas2 = model.generate_content(config2[\"roteiro\"][\"atenas\"])\n",
    "resp_roma2 = model.generate_content(config2[\"roteiro\"][\"roma\"])"
   ]
  },
  {
   "cell_type": "code",
   "execution_count": 22,
   "metadata": {},
   "outputs": [
    {
     "name": "stdout",
     "output_type": "stream",
     "text": [
      "[\n",
      "  {\n",
      "    \"ponto_turistico\": \"Atenas_Acropolis\",\n",
      "    \"visitantes_anuais\": 7000000,\n",
      "    \"descricao\": \"Um antigo complexo de monumentos, incluindo o Parthenon, localizado no topo de uma colina com vista para Atenas. É um dos locais históricos mais importantes da Grécia e um dos destinos turísticos mais populares do mundo.\"\n",
      "  },\n",
      "  {\n",
      "    \"ponto_turistico\": \"Atenas_Museu da Acrópole\",\n",
      "    \"visitantes_anuais\": 1500000,\n",
      "    \"descricao\": \"Um museu que abriga artefatos da Acrópole, incluindo esculturas, cerâmica e outros artefatos encontrados no sítio arqueológico. O museu é conhecido por sua arquitetura moderna e suas exposições de alta qualidade.\"\n",
      "  },\n",
      "  {\n",
      "    \"ponto_turistico\": \"Atenas_Fórum Romano\",\n",
      "    \"visitantes_anuais\": 1000000,\n",
      "    \"descricao\": \"Um antigo mercado público e centro político localizado no coração de Atenas. O Fórum Romano é um exemplo impressionante da arquitetura romana, e oferece uma visão fascinante da história da cidade.\"\n",
      "  }\n",
      "]\n"
     ]
    }
   ],
   "source": [
    "at_json = resp_atenas2.text[8:-4].strip(\"\\n\")\n",
    "print(at_json)"
   ]
  },
  {
   "cell_type": "code",
   "execution_count": 23,
   "metadata": {},
   "outputs": [
    {
     "name": "stdout",
     "output_type": "stream",
     "text": [
      "[\n",
      "  {\n",
      "    \"ponto_turistico\": \"Roma_Coliseu\",\n",
      "    \"visitantes_anuais\": 7500000,\n",
      "    \"descricao\": \"Um anfiteatro romano antigo, um dos monumentos mais icônicos e visitados da cidade, conhecido por suas lutas de gladiadores e outros espetáculos públicos.\"\n",
      "  },\n",
      "  {\n",
      "    \"ponto_turistico\": \"Roma_Fórum Romano\",\n",
      "    \"visitantes_anuais\": 4500000,\n",
      "    \"descricao\": \"Um vasto complexo de ruínas de edifícios e monumentos, incluindo o Fórum Romano e o Palatino, que era o coração do antigo Império Romano.\"\n",
      "  },\n",
      "  {\n",
      "    \"ponto_turistico\": \"Roma_Museus do Vaticano\",\n",
      "    \"visitantes_anuais\": 6500000,\n",
      "    \"descricao\": \"Um grupo de museus, incluindo a Capela Sistina e o Museu Pio-Clementino, que abriga uma coleção de arte e esculturas renascentistas e antigas.\"\n",
      "  }\n",
      "]\n"
     ]
    }
   ],
   "source": [
    "rm_json = resp_roma2.text[8:-4].strip(\"\\n\")\n",
    "print(rm_json)"
   ]
  },
  {
   "cell_type": "code",
   "execution_count": 38,
   "metadata": {},
   "outputs": [
    {
     "data": {
      "image/png": "[encoded data removed]",
      "text/plain": [
       "<Figure size 640x480 with 1 Axes>"
      ]
     },
     "metadata": {},
     "output_type": "display_data"
    }
   ],
   "source": [
    "import pandas as pd\n",
    "import json\n",
    "import matplotlib.pyplot as plt\n",
    "\n",
    "dfa = pd.DataFrame().from_dict(json.loads(at_json))\n",
    "dfr = pd.DataFrame().from_dict(json.loads(rm_json))\n",
    "\n",
    "dfa['visitantes_anuais'] = pd.to_numeric(dfa['visitantes_anuais'])\n",
    "dfr['visitantes_anuais'] = pd.to_numeric(dfr['visitantes_anuais'])\n",
    "df2 = pd.concat([dfa, dfr], axis=0)\n",
    "\n",
    "df2.sort_values('ponto_turistico', ascending=True).plot(kind='barh', x='ponto_turistico', y='visitantes_anuais', color='blue', legend=True)\n",
    "\n",
    "mask = df2['ponto_turistico'].str.contains('Roma_')\n",
    "plt.barh(df2[mask]['ponto_turistico'], df2[mask]['visitantes_anuais'], color='red')\n",
    "plt.legend(['Roma','Atenas'])\n",
    "\n",
    "plt.grid(axis='x')\n",
    "plt.title('Pontos turísticos de Atenas e Roma por visitantes anuais')\n",
    "plt.xlabel('Visitantes Anuais (em milhões)')\n",
    "plt.ylabel('Pontos turísticos')\n",
    "plt.show()"
   ]
  }
 ],
 "metadata": {
  "kernelspec": {
   "display_name": "aavenv",
   "language": "python",
   "name": "python3"
  },
  "language_info": {
   "codemirror_mode": {
    "name": "ipython",
    "version": 3
   },
   "file_extension": ".py",
   "mimetype": "text/x-python",
   "name": "python",
   "nbconvert_exporter": "python",
   "pygments_lexer": "ipython3",
   "version": "3.12.4"
  }
 },
 "nbformat": 4,
 "nbformat_minor": 2
}
